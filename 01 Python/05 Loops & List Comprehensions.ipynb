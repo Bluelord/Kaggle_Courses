{
  "nbformat": 4,
  "nbformat_minor": 0,
  "metadata": {
    "anaconda-cloud": {},
    "kernelspec": {
      "display_name": "Python 3",
      "language": "python",
      "name": "python3"
    },
    "language_info": {
      "codemirror_mode": {
        "name": "ipython",
        "version": 3
      },
      "file_extension": ".py",
      "mimetype": "text/x-python",
      "name": "python",
      "nbconvert_exporter": "python",
      "pygments_lexer": "ipython3",
      "version": "3.6.5"
    },
    "learntools_metadata": {
      "lesson_index": 4,
      "type": "tutorial"
    },
    "colab": {
      "name": "05 Loops & List Comprehensions.ipynb",
      "provenance": [],
      "include_colab_link": true
    }
  },
  "cells": [
    {
      "cell_type": "markdown",
      "metadata": {
        "id": "view-in-github",
        "colab_type": "text"
      },
      "source": [
        "<a href=\"https://colab.research.google.com/github/Bluelord/Kaggle_Courses/blob/main/01%20Python/05%20Loops%20%26%20List%20Comprehensions.ipynb\" target=\"_parent\"><img src=\"https://colab.research.google.com/assets/colab-badge.svg\" alt=\"Open In Colab\"/></a>"
      ]
    },
    {
      "cell_type": "markdown",
      "metadata": {
        "id": "VUC2TCAIsv2w"
      },
      "source": [
        "# Loops & List Comprehensions\n",
        "\n",
        "---\n",
        "\n",
        "\n",
        "\n",
        "---\n"
      ]
    },
    {
      "cell_type": "markdown",
      "metadata": {
        "id": "cMnpxBlgtS_l"
      },
      "source": [
        "## Tutorial\n",
        "\n",
        "---"
      ]
    },
    {
      "cell_type": "markdown",
      "metadata": {
        "id": "p9fEavKXsah9"
      },
      "source": [
        "### Loops\n",
        "\n",
        "Loops are a way to repeatedly execute some code. Here's an example, The ``for`` loop specifies \n",
        "- the variable name to use (in this case, `planet`)\n",
        "- the set of values to loop over (in this case, `planets`)\n",
        "\n",
        "You use the word ``in`` to link them together.\n",
        "The object to the right of the \"``in``\" can be any object that supports iteration.**bold text**"
      ]
    },
    {
      "cell_type": "code",
      "metadata": {
        "colab": {
          "base_uri": "https://localhost:8080/"
        },
        "id": "LP2K-qWMsaiH",
        "outputId": "b974bba7-5bf9-4ff8-c0e3-00ec52d1e776"
      },
      "source": [
        "planets = ['Mercury', 'Venus', 'Earth', 'Mars', 'Jupiter', 'Saturn', 'Uranus', 'Neptune']\n",
        "for planet in planets:\n",
        "    print(planet, end=' ') # print all on same line"
      ],
      "execution_count": 1,
      "outputs": [
        {
          "output_type": "stream",
          "text": [
            "Mercury Venus Earth Mars Jupiter Saturn Uranus Neptune "
          ],
          "name": "stdout"
        }
      ]
    },
    {
      "cell_type": "code",
      "metadata": {
        "colab": {
          "base_uri": "https://localhost:8080/"
        },
        "id": "ToiJkYQMsaiI",
        "outputId": "6237dd48-4a82-4da5-d132-09f20a1a7691"
      },
      "source": [
        "multiplicands = (2, 2, 2, 3, 3, 5)\n",
        "product = 1\n",
        "for mult in multiplicands:\n",
        "    product = product * mult\n",
        "product"
      ],
      "execution_count": 2,
      "outputs": [
        {
          "output_type": "execute_result",
          "data": {
            "text/plain": [
              "360"
            ]
          },
          "metadata": {
            "tags": []
          },
          "execution_count": 2
        }
      ]
    },
    {
      "cell_type": "code",
      "metadata": {
        "colab": {
          "base_uri": "https://localhost:8080/"
        },
        "id": "F02FKk0bum0m",
        "outputId": "06162a15-ec47-4269-8d57-dc3e275d8ad1"
      },
      "source": [
        "s = 'steganograpHy is the practicE of conceaLing a file, message, image, or video within another fiLe, message, image, Or video.'\n",
        "msg = ''\n",
        "# print all the uppercase letters in s, one at a time\n",
        "for char in s:\n",
        "    if char.isupper():\n",
        "        print(char, end='') "
      ],
      "execution_count": 3,
      "outputs": [
        {
          "output_type": "stream",
          "text": [
            "HELLO"
          ],
          "name": "stdout"
        }
      ]
    },
    {
      "cell_type": "markdown",
      "metadata": {
        "id": "TrzVguzWsaiJ"
      },
      "source": [
        "`range()` is a function that returns a sequence of numbers. It turns out to be very useful for writing loops.\n"
      ]
    },
    {
      "cell_type": "code",
      "metadata": {
        "colab": {
          "base_uri": "https://localhost:8080/"
        },
        "id": "2FJbc-5JsaiK",
        "outputId": "fba9d663-aa3a-4a80-ef1c-f00a58df4fdf"
      },
      "source": [
        "for i in range(5):\n",
        "    print(\"Doing important work. i =\", i)"
      ],
      "execution_count": 4,
      "outputs": [
        {
          "output_type": "stream",
          "text": [
            "Doing important work. i = 0\n",
            "Doing important work. i = 1\n",
            "Doing important work. i = 2\n",
            "Doing important work. i = 3\n",
            "Doing important work. i = 4\n"
          ],
          "name": "stdout"
        }
      ]
    },
    {
      "cell_type": "markdown",
      "metadata": {
        "id": "dmCuIR0fsaiK"
      },
      "source": [
        "**while loops**\n",
        "The other type of loop in Python is a ``while`` loop, which iterates until some condition is met:"
      ]
    },
    {
      "cell_type": "code",
      "metadata": {
        "colab": {
          "base_uri": "https://localhost:8080/"
        },
        "id": "ovweeE-0saiL",
        "outputId": "1f4878f7-bc3a-46b5-aa4f-010d1c45b08a"
      },
      "source": [
        "i = 0\n",
        "while i < 10:\n",
        "    print(i, end=' ')\n",
        "    i += 1"
      ],
      "execution_count": 5,
      "outputs": [
        {
          "output_type": "stream",
          "text": [
            "0 1 2 3 4 5 6 7 8 9 "
          ],
          "name": "stdout"
        }
      ]
    },
    {
      "cell_type": "markdown",
      "metadata": {
        "id": "Js1odNa4saiL"
      },
      "source": [
        "### List comprehensions\n",
        "\n",
        "List comprehensions are one of Python's most beloved and unique features. The easiest way to understand them is probably to just look at a few examples, same thing without a list comprehension."
      ]
    },
    {
      "cell_type": "code",
      "metadata": {
        "colab": {
          "base_uri": "https://localhost:8080/"
        },
        "id": "VH5TFMKxsaiM",
        "outputId": "4efc897f-73e4-490f-d618-277cbe4e7d40"
      },
      "source": [
        "squares = [n**2 for n in range(10)]\n",
        "squares"
      ],
      "execution_count": 6,
      "outputs": [
        {
          "output_type": "execute_result",
          "data": {
            "text/plain": [
              "[0, 1, 4, 9, 16, 25, 36, 49, 64, 81]"
            ]
          },
          "metadata": {
            "tags": []
          },
          "execution_count": 6
        }
      ]
    },
    {
      "cell_type": "code",
      "metadata": {
        "colab": {
          "base_uri": "https://localhost:8080/"
        },
        "id": "iZxGzLcEsaiM",
        "outputId": "dbcb7880-35bf-4098-cb4e-812edd3d6b2e"
      },
      "source": [
        "squares = []\n",
        "for n in range(10):\n",
        "    squares.append(n**2)\n",
        "squares"
      ],
      "execution_count": 7,
      "outputs": [
        {
          "output_type": "execute_result",
          "data": {
            "text/plain": [
              "[0, 1, 4, 9, 16, 25, 36, 49, 64, 81]"
            ]
          },
          "metadata": {
            "tags": []
          },
          "execution_count": 7
        }
      ]
    },
    {
      "cell_type": "code",
      "metadata": {
        "colab": {
          "base_uri": "https://localhost:8080/"
        },
        "id": "hUvKWGjgsaiM",
        "outputId": "e2b7720b-9a8c-4c56-9ce4-0b51c3f6ba0d"
      },
      "source": [
        "short_planets = [planet for planet in planets if len(planet) < 6]\n",
        "short_planets"
      ],
      "execution_count": 8,
      "outputs": [
        {
          "output_type": "execute_result",
          "data": {
            "text/plain": [
              "['Venus', 'Earth', 'Mars']"
            ]
          },
          "metadata": {
            "tags": []
          },
          "execution_count": 8
        }
      ]
    },
    {
      "cell_type": "code",
      "metadata": {
        "colab": {
          "base_uri": "https://localhost:8080/"
        },
        "id": "7k8WEKs4saiN",
        "outputId": "d89acc17-f2e4-4be0-ab18-9c9482d97cc5"
      },
      "source": [
        "# str.upper() returns an all-caps version of a string\n",
        "loud_short_planets = [planet.upper() + '!' for planet in planets if len(planet) < 6]\n",
        "loud_short_planets"
      ],
      "execution_count": 9,
      "outputs": [
        {
          "output_type": "execute_result",
          "data": {
            "text/plain": [
              "['VENUS!', 'EARTH!', 'MARS!']"
            ]
          },
          "metadata": {
            "tags": []
          },
          "execution_count": 9
        }
      ]
    },
    {
      "cell_type": "code",
      "metadata": {
        "colab": {
          "base_uri": "https://localhost:8080/"
        },
        "id": "gpVx46bAsaiN",
        "outputId": "5e44b505-0cf4-4266-9308-2ac7c8419fcb"
      },
      "source": [
        "[\n",
        "    planet.upper() + '!' \n",
        "    for planet in planets \n",
        "    if len(planet) < 6\n",
        "]"
      ],
      "execution_count": 10,
      "outputs": [
        {
          "output_type": "execute_result",
          "data": {
            "text/plain": [
              "['VENUS!', 'EARTH!', 'MARS!']"
            ]
          },
          "metadata": {
            "tags": []
          },
          "execution_count": 10
        }
      ]
    },
    {
      "cell_type": "code",
      "metadata": {
        "_kg_hide-output": true,
        "colab": {
          "base_uri": "https://localhost:8080/"
        },
        "id": "7rtt6j5VsaiO",
        "outputId": "59e21907-bd63-43bf-801e-68f390cac8eb"
      },
      "source": [
        "[32 for planet in planets]"
      ],
      "execution_count": 11,
      "outputs": [
        {
          "output_type": "execute_result",
          "data": {
            "text/plain": [
              "[32, 32, 32, 32, 32, 32, 32, 32]"
            ]
          },
          "metadata": {
            "tags": []
          },
          "execution_count": 11
        }
      ]
    },
    {
      "cell_type": "code",
      "metadata": {
        "collapsed": true,
        "jupyter": {
          "outputs_hidden": true
        },
        "id": "IB1s3YVBsaiO"
      },
      "source": [
        "def count_negatives(nums):\n",
        "    \"\"\"Return the number of negative numbers in the given list.\n",
        "    \n",
        "    >>> count_negatives([5, -1, -2, 0, 3])\n",
        "    2\n",
        "    \"\"\"\n",
        "    n_negative = 0\n",
        "    for num in nums:\n",
        "        if num < 0:\n",
        "            n_negative = n_negative + 1\n",
        "    return n_negative"
      ],
      "execution_count": 12,
      "outputs": []
    },
    {
      "cell_type": "code",
      "metadata": {
        "collapsed": true,
        "jupyter": {
          "outputs_hidden": true
        },
        "id": "pGriP6-FsaiP"
      },
      "source": [
        "def count_negatives(nums):\n",
        "    return len([num for num in nums if num < 0])"
      ],
      "execution_count": 13,
      "outputs": []
    },
    {
      "cell_type": "code",
      "metadata": {
        "collapsed": true,
        "jupyter": {
          "outputs_hidden": true
        },
        "id": "26AS10gPsaiP"
      },
      "source": [
        "def count_negatives(nums):\n",
        "    # Reminder: in the \"booleans and conditionals\" exercises, we learned about a quirk of \n",
        "    # Python where it calculates something like True + True + False + True to be equal to 3.\n",
        "    return sum([num < 0 for num in nums])"
      ],
      "execution_count": 14,
      "outputs": []
    },
    {
      "cell_type": "markdown",
      "metadata": {
        "id": "3EJLMrvIwtZI"
      },
      "source": [
        "## Exercise\n",
        "\n",
        "---\n"
      ]
    },
    {
      "cell_type": "code",
      "metadata": {
        "colab": {
          "base_uri": "https://localhost:8080/"
        },
        "id": "h6jbEseHwyhg",
        "outputId": "197a39a8-9e2f-4d03-b3b2-4f23045686a3"
      },
      "source": [
        "def has_lucky_number(nums):\n",
        "    \"\"\"Return whether the given list of numbers is lucky. A lucky list contains\n",
        "    at least one number divisible by 7.\n",
        "    \"\"\"\n",
        "    for num in nums:\n",
        "        if num % 7 == 0:\n",
        "            return True\n",
        "        else:\n",
        "            return False\n",
        "        \n",
        "has_lucky_number([7,5,6,8,14,16])"
      ],
      "execution_count": 15,
      "outputs": [
        {
          "output_type": "execute_result",
          "data": {
            "text/plain": [
              "True"
            ]
          },
          "metadata": {
            "tags": []
          },
          "execution_count": 15
        }
      ]
    },
    {
      "cell_type": "code",
      "metadata": {
        "id": "RRRg5D5CxANp"
      },
      "source": [
        "def has_lucky_number(nums):\n",
        "    return any([num % 7 == 0 for num in nums])"
      ],
      "execution_count": 16,
      "outputs": []
    },
    {
      "cell_type": "code",
      "metadata": {
        "id": "PMIQDwi5xDOB"
      },
      "source": [
        "#[1, 2, 3, 4] > 2\n",
        "# Will show an error"
      ],
      "execution_count": 17,
      "outputs": []
    },
    {
      "cell_type": "markdown",
      "metadata": {
        "id": "x4BNJtA7xSNo"
      },
      "source": [
        "Implement a function that correspondins to whether the corresponding element is greater than n."
      ]
    },
    {
      "cell_type": "code",
      "metadata": {
        "colab": {
          "base_uri": "https://localhost:8080/"
        },
        "id": "6Wh2Fk2xxL_h",
        "outputId": "6f8839b8-6158-4d6c-a032-361d53187b04"
      },
      "source": [
        "def elementwise_greater_than(L, thresh):\n",
        "    boolean_list = []\n",
        "    for element in L:\n",
        "        boolean = element > thresh\n",
        "        boolean_list.append(boolean)\n",
        "    return boolean_list\n",
        "elementwise_greater_than([1, 2, 3, 4], 2)"
      ],
      "execution_count": 18,
      "outputs": [
        {
          "output_type": "execute_result",
          "data": {
            "text/plain": [
              "[False, False, True, True]"
            ]
          },
          "metadata": {
            "tags": []
          },
          "execution_count": 18
        }
      ]
    },
    {
      "cell_type": "code",
      "metadata": {
        "colab": {
          "base_uri": "https://localhost:8080/"
        },
        "id": "KDwNZbx0xkso",
        "outputId": "653734e4-e635-40fe-864a-02753d8c7e6b"
      },
      "source": [
        "def elementwise_greater_than(L, thresh):\n",
        "    return [ele > thresh for ele in L]\n",
        "\n",
        "elementwise_greater_than([1, 2, 3, 4], 2)"
      ],
      "execution_count": 19,
      "outputs": [
        {
          "output_type": "execute_result",
          "data": {
            "text/plain": [
              "[False, False, True, True]"
            ]
          },
          "metadata": {
            "tags": []
          },
          "execution_count": 19
        }
      ]
    },
    {
      "cell_type": "code",
      "metadata": {
        "id": "SLCH7LFlxpQh"
      },
      "source": [
        "def menu_is_boring(meals):\n",
        "    # Iterate over all indices of the list, except the last one\n",
        "    for i in range(len(meals)-1):\n",
        "        if meals[i] == meals[i+1]:\n",
        "            return True\n",
        "    return False\n"
      ],
      "execution_count": 20,
      "outputs": []
    },
    {
      "cell_type": "markdown",
      "metadata": {
        "id": "wkKp2NhQx3ss"
      },
      "source": [
        "range(len(meals)) would give us all the indices of meals. If we had used that range, the last iteration of the loop would be comparing the last element to the element after it, which is... IndexError! range(len(meals)-1) gives us all the indices except the index of the last element."
      ]
    }
  ]
}