{
  "nbformat": 4,
  "nbformat_minor": 0,
  "metadata": {
    "kernelspec": {
      "display_name": "Python 3",
      "language": "python",
      "name": "python3"
    },
    "language_info": {
      "codemirror_mode": {
        "name": "ipython",
        "version": 3
      },
      "file_extension": ".py",
      "mimetype": "text/x-python",
      "name": "python",
      "nbconvert_exporter": "python",
      "pygments_lexer": "ipython3",
      "version": "3.6.5"
    },
    "colab": {
      "name": "03 Model Validation.ipynb",
      "provenance": [],
      "include_colab_link": true
    }
  },
  "cells": [
    {
      "cell_type": "markdown",
      "metadata": {
        "id": "view-in-github",
        "colab_type": "text"
      },
      "source": [
        "<a href=\"https://colab.research.google.com/github/Bluelord/Kaggle_Courses/blob/main/04%20Intro%20to%20Machine%20Learning/03_Model_Validation.ipynb\" target=\"_parent\"><img src=\"https://colab.research.google.com/assets/colab-badge.svg\" alt=\"Open In Colab\"/></a>"
      ]
    },
    {
      "cell_type": "markdown",
      "metadata": {
        "id": "60tNebr1cVCV"
      },
      "source": [
        "# Model Validation\n",
        "\n",
        "---\n",
        "\n",
        "\n",
        "\n",
        "---\n",
        "\n"
      ]
    },
    {
      "cell_type": "markdown",
      "metadata": {
        "id": "xTNtSiUZcU7j"
      },
      "source": [
        "## Tutorial\n",
        "\n",
        "\n",
        "---"
      ]
    },
    {
      "cell_type": "markdown",
      "metadata": {
        "id": "2aw-_2KlcHV8"
      },
      "source": [
        "\n",
        "### What is Model Validation\n",
        "\n",
        "- In most (though not all) applications, the relevant measure of model quality is predictive accuracy. In other words, will the model's predictions be close to what actually happens.\n",
        "- A huge mistake when measuring predictive accuracy is making predictions with *training data* only. You'll see the problem with this approach and how to solve it in a moment, but let's think about how we'd do this first.\n",
        "- You'd first need to summarize the model quality into an understandable way. If you compare predicted and actual home values for 10,000 houses, you'll likely find mix of good and bad predictions. Looking through a list of 10,000 predicted and actual values would be pointless. We need to summarize this into a single metric.\n",
        "- There are many metrics for summarizing model quality, but we'll start with one called **Mean Absolute Error** (also called **MAE**). Let's break down this metric starting with the last word, error.\n",
        "\n",
        "The prediction error for each house is: </br>\n",
        "```\n",
        "error=actual−predicted\n",
        "```\n",
        "\n",
        "So, if a house cost \\$150,000 and you predicted it would cost \\$100,000 the error is \\$50,000.\n",
        "\n",
        "With the MAE metric, we take the absolute value of each error. This converts each error to a positive number. We then take the average of those absolute errors. This is our measure of model quality."
      ]
    },
    {
      "cell_type": "code",
      "metadata": {
        "colab": {
          "base_uri": "https://localhost:8080/"
        },
        "id": "UpFydYzKh4_y",
        "outputId": "a89619c6-6500-4efa-a4ad-b8a00dd60b86"
      },
      "source": [
        "from google.colab import drive\n",
        "drive.mount(\"/content/drive\")"
      ],
      "execution_count": 1,
      "outputs": [
        {
          "output_type": "stream",
          "text": [
            "Mounted at /content/drive\n"
          ],
          "name": "stdout"
        }
      ]
    },
    {
      "cell_type": "code",
      "metadata": {
        "_kg_hide-input": true,
        "_kg_hide-output": true,
        "collapsed": true,
        "colab": {
          "base_uri": "https://localhost:8080/"
        },
        "id": "-9fe4NUVcHV_",
        "outputId": "cd21c2db-4ecc-4f7f-95cc-67d56fa27b36"
      },
      "source": [
        "# Data Loading Code Hidden Here\n",
        "import pandas as pd\n",
        "\n",
        "# Load data\n",
        "iowa_file_path = '/content/drive/MyDrive/Colab Notebooks/Kaggle_Courses/04 Intro to ML/train.csv'\n",
        "home_data = pd.read_csv(iowa_file_path)\n",
        "# Filter rows with missing price values\n",
        "\n",
        "# Choose target and features\n",
        "y = home_data.SalePrice\n",
        "# Create the list of features below\n",
        "feature_names = ['LotArea','YearBuilt','1stFlrSF','2ndFlrSF','FullBath','BedroomAbvGr','TotRmsAbvGrd']\n",
        "# Select data corresponding to features in feature_names\n",
        "X = home_data[feature_names]\n",
        "from sklearn.tree import DecisionTreeRegressor\n",
        "#specify the model. \n",
        "#For model reproducibility, set a numeric value for random_state when specifying the model\n",
        "iowa_model = iowa_model = DecisionTreeRegressor(random_state=0)\n",
        "# Fit the model\n",
        "iowa_model.fit(X, y)"
      ],
      "execution_count": 6,
      "outputs": [
        {
          "output_type": "execute_result",
          "data": {
            "text/plain": [
              "DecisionTreeRegressor(ccp_alpha=0.0, criterion='mse', max_depth=None,\n",
              "                      max_features=None, max_leaf_nodes=None,\n",
              "                      min_impurity_decrease=0.0, min_impurity_split=None,\n",
              "                      min_samples_leaf=1, min_samples_split=2,\n",
              "                      min_weight_fraction_leaf=0.0, presort='deprecated',\n",
              "                      random_state=0, splitter='best')"
            ]
          },
          "metadata": {
            "tags": []
          },
          "execution_count": 6
        }
      ]
    },
    {
      "cell_type": "markdown",
      "metadata": {
        "id": "oMuX8RuYcHWB"
      },
      "source": [
        "Once we have a model, here is how we calculate the mean absolute error:"
      ]
    },
    {
      "cell_type": "code",
      "metadata": {
        "collapsed": true,
        "colab": {
          "base_uri": "https://localhost:8080/"
        },
        "id": "9jili8vTcHWC",
        "outputId": "42257957-bc95-4963-80b4-50e1049befb0"
      },
      "source": [
        "from sklearn.metrics import mean_absolute_error\n",
        "\n",
        "predicted_home_prices = iowa_model.predict(X)\n",
        "mean_absolute_error(y, predicted_home_prices)"
      ],
      "execution_count": 7,
      "outputs": [
        {
          "output_type": "execute_result",
          "data": {
            "text/plain": [
              "62.35433789954339"
            ]
          },
          "metadata": {
            "tags": []
          },
          "execution_count": 7
        }
      ]
    },
    {
      "cell_type": "markdown",
      "metadata": {
        "id": "mwgJMcXLcHWD"
      },
      "source": [
        "### The Problem with \"In-Sample\" Scores\n",
        "\n",
        "The measure we just computed can be called an \"in-sample\" score. We used a single \"sample\" of houses for both building the model and evaluating it. Here's why this is bad.\n",
        "Imagine that, in the large real estate market, door color is unrelated to home price.\n",
        "However, in the sample of data you used to build the model, all homes with green doors were very expensive. The model's job is to find patterns that predict home prices, so it will see this pattern, and it will always predict high prices for homes with green doors.\n",
        "\n",
        "Since this pattern was derived from the training data, the model will appear accurate in the training data.\n",
        "But if this pattern doesn't hold when the model sees new data, the model would be very inaccurate when used in practice.\n",
        "Since models' practical value come from making predictions on new data, we measure performance on data that wasn't used to build the model. The most straightforward way to do this is to exclude some data from the model-building process, and then use those to test the model's accuracy on data it hasn't seen before. This data is called **validation data**.\n",
        "\n",
        "\n",
        "# Coding It\n",
        "The scikit-learn library has a function `train_test_split` to break up the data into two pieces. We'll use some of that data as training data to fit the model, and we'll use the other data as validation data to calculate `mean_absolute_error`."
      ]
    },
    {
      "cell_type": "code",
      "metadata": {
        "collapsed": true,
        "colab": {
          "base_uri": "https://localhost:8080/"
        },
        "id": "RPO8rOw3cHWD",
        "outputId": "585fa3ca-5c30-4c55-8cb1-b058c3106074"
      },
      "source": [
        "from sklearn.model_selection import train_test_split\n",
        "\n",
        "# split data into training and validation data, for both features and target\n",
        "# The split is based on a random number generator. Supplying a numeric value to\n",
        "# the random_state argument guarantees we get the same split every time we\n",
        "# run this script.\n",
        "train_X, val_X, train_y, val_y = train_test_split(X, y, random_state = 0)\n",
        "# Define model\n",
        "melbourne_model = DecisionTreeRegressor()\n",
        "# Fit model\n",
        "melbourne_model.fit(train_X, train_y)\n",
        "\n",
        "# get predicted prices on validation data\n",
        "val_predictions = melbourne_model.predict(val_X)\n",
        "print(mean_absolute_error(val_y, val_predictions))"
      ],
      "execution_count": 8,
      "outputs": [
        {
          "output_type": "stream",
          "text": [
            "33274.62739726027\n"
          ],
          "name": "stdout"
        }
      ]
    },
    {
      "cell_type": "markdown",
      "metadata": {
        "id": "nvqecK26khqr"
      },
      "source": [
        "## Exercise\n",
        "\n",
        "---"
      ]
    },
    {
      "cell_type": "code",
      "metadata": {
        "id": "5MyaD1Xzkqxa"
      },
      "source": [
        ""
      ],
      "execution_count": null,
      "outputs": []
    }
  ]
}